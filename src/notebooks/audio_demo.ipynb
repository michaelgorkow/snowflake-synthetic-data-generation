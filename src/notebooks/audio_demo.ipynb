{
 "cells": [
  {
   "cell_type": "markdown",
   "id": "a4ab285b",
   "metadata": {
    "vscode": {
     "languageId": "raw"
    }
   },
   "source": [
    "# TextToSpeech Class Demonstration\n",
    "\n",
    "This notebook demonstrates the capabilities of the TextToSpeech class for generating synthetic audio data. We'll cover both simple single-speaker text-to-speech and complex multi-speaker dialogue scenarios.\n",
    "\n",
    "## Features Demonstrated\n",
    "1. **Single Speaker TTS** - Basic text-to-speech conversion\n",
    "2. **Multi-Speaker Dialogues** - Complex conversations with multiple voices  \n",
    "3. **Call Center Example** - Realistic customer service interaction\n",
    "4. **Random Speaker Assignment** - Automatic voice selection for characters\n",
    "5. **Snowflake Integration** - Saving audio files to Snowflake stages\n"
   ]
  },
  {
   "cell_type": "markdown",
   "id": "5803d6d8",
   "metadata": {
    "vscode": {
     "languageId": "raw"
    }
   },
   "source": [
    "## Setup and Imports\n",
    "\n",
    "First, let's import the necessary modules and set up our TextToSpeech instances.\n"
   ]
  },
  {
   "cell_type": "code",
   "execution_count": null,
   "id": "9ae18c53",
   "metadata": {},
   "outputs": [],
   "source": [
    "import sys\n",
    "import os\n",
    "import numpy as np\n",
    "import soundfile as sf\n",
    "import IPython.display as ipd\n",
    "\n",
    "from ..audio.text_to_speech import TextToSpeech\n",
    "from ..audio.voices import VOICES\n",
    "\n",
    "\n",
    "print(\"✅ Imports successful!\")\n",
    "print(f\"Available models in VOICES: {list(VOICES.keys())}\")\n"
   ]
  },
  {
   "cell_type": "markdown",
   "id": "80df4730",
   "metadata": {
    "vscode": {
     "languageId": "raw"
    }
   },
   "source": [
    "## Example 1: Simple Single-Speaker Text-to-Speech\n",
    "\n",
    "Let's start with a basic example using a fast single-speaker model. This is perfect for generating simple announcements or narrations.\n"
   ]
  },
  {
   "cell_type": "code",
   "execution_count": null,
   "id": "7645945c",
   "metadata": {},
   "outputs": [],
   "source": [
    "# Initialize a fast single-speaker TTS model\n",
    "print(\"🔄 Loading single-speaker TTS model...\")\n",
    "tts_simple = TextToSpeech(model=\"tts_models/en/ljspeech/tacotron2-DDC\")\n",
    "print(\"✅ Model loaded successfully!\")\n",
    "\n",
    "# Generate simple text-to-speech\n",
    "text = \"Welcome to our synthetic data generation platform. This audio was created using advanced text-to-speech technology.\"\n",
    "\n",
    "print(f\"🎤 Generating speech for: '{text}'\")\n",
    "audio_data = tts_simple.text_to_speech(text)\n",
    "\n",
    "print(f\"✅ Audio generated! Shape: {audio_data.shape}, Duration: {len(audio_data)/tts_simple.sample_rate:.2f} seconds\")\n",
    "\n",
    "# Play the audio in the notebook\n",
    "ipd.Audio(audio_data, rate=tts_simple.sample_rate)\n"
   ]
  },
  {
   "cell_type": "markdown",
   "id": "5db651a7",
   "metadata": {
    "vscode": {
     "languageId": "raw"
    }
   },
   "source": [
    "## Example 2: Multi-Speaker Dialogue - Call Center Scenario\n",
    "\n",
    "Now let's create a more complex example with multiple speakers. We'll simulate a customer service call with realistic dialogue between a representative and a customer.\n"
   ]
  },
  {
   "cell_type": "code",
   "execution_count": null,
   "id": "ab94a605",
   "metadata": {},
   "outputs": [],
   "source": [
    "# Initialize multi-speaker, multilingual TTS model\n",
    "print(\"🔄 Loading multi-speaker TTS model (this may take a moment)...\")\n",
    "tts_dialogue = TextToSpeech(model=\"tts_models/multilingual/multi-dataset/xtts_v2\")\n",
    "print(\"✅ Multi-speaker model loaded successfully!\")\n",
    "\n",
    "# Let's explore the available speakers\n",
    "print(f\"\\n📢 Total available speakers: {len(tts_dialogue.tts_model.speakers)}\")\n",
    "print(\"🎭 Sample female voices:\", VOICES[\"tts_models/multilingual/multi-dataset/xtts_v2\"][\"female_voices\"][:5])\n",
    "print(\"🎭 Sample male voices:\", VOICES[\"tts_models/multilingual/multi-dataset/xtts_v2\"][\"male_voices\"][:5])\n"
   ]
  },
  {
   "cell_type": "code",
   "execution_count": null,
   "id": "174c63da",
   "metadata": {},
   "outputs": [],
   "source": [
    "# Create a realistic call center dialogue\n",
    "call_center_dialogue = {\n",
    "    \"segments\": [\n",
    "        {\n",
    "            \"text\": \"Thank you for calling TechCorp customer service. This is Sarah speaking. How can I help you today?\",\n",
    "            \"speaker\": \"Representative\"\n",
    "        },\n",
    "        {\n",
    "            \"text\": \"Hi Sarah, I'm having trouble with my recent order. I placed it three days ago but haven't received any tracking information.\",\n",
    "            \"speaker\": \"Customer\"\n",
    "        },\n",
    "        {\n",
    "            \"text\": \"I'm sorry to hear that you're experiencing this issue. Let me look up your order right away. Can you please provide me with your order number?\",\n",
    "            \"speaker\": \"Representative\"\n",
    "        },\n",
    "        {\n",
    "            \"text\": \"Sure, it's order number T-C-K-2-0-2-4-dash-7-8-9-1.\",\n",
    "            \"speaker\": \"Customer\"\n",
    "        },\n",
    "        {\n",
    "            \"text\": \"Perfect, thank you. I can see your order here. It looks like there was a slight delay in processing, but I have good news - your order was shipped yesterday and should arrive tomorrow. Let me send you the tracking number right now.\",\n",
    "            \"speaker\": \"Representative\"\n",
    "        },\n",
    "        {\n",
    "            \"text\": \"Oh that's great! Thank you so much for checking on that. I really appreciate your help.\",\n",
    "            \"speaker\": \"Customer\"\n",
    "        },\n",
    "        {\n",
    "            \"text\": \"You're very welcome! Is there anything else I can help you with today?\",\n",
    "            \"speaker\": \"Representative\"\n",
    "        },\n",
    "        {\n",
    "            \"text\": \"No, that takes care of everything. Thank you again, Sarah.\",\n",
    "            \"speaker\": \"Customer\"\n",
    "        },\n",
    "        {\n",
    "            \"text\": \"My pleasure! Have a wonderful day and thank you for choosing TechCorp.\",\n",
    "            \"speaker\": \"Representative\"\n",
    "        }\n",
    "    ]\n",
    "}\n",
    "\n",
    "print(\"📝 Call center dialogue script created!\")\n",
    "print(f\"💬 Total segments: {len(call_center_dialogue['segments'])}\")\n",
    "for i, segment in enumerate(call_center_dialogue['segments'], 1):\n",
    "    print(f\"  {i}. {segment['speaker']}: {segment['text'][:50]}...\")\n"
   ]
  },
  {
   "cell_type": "markdown",
   "id": "11fb41c0",
   "metadata": {
    "vscode": {
     "languageId": "raw"
    }
   },
   "source": [
    "### Version A: Manual Speaker Assignment\n",
    "\n",
    "First, let's create the dialogue with manually chosen speakers for each role.\n"
   ]
  },
  {
   "cell_type": "code",
   "execution_count": null,
   "id": "19dbfb6d",
   "metadata": {},
   "outputs": [],
   "source": [
    "# Create dialogue with specific speaker assignment\n",
    "# Map our character names to actual TTS voices\n",
    "manual_dialogue = {\n",
    "    \"segments\": []\n",
    "}\n",
    "\n",
    "for segment in call_center_dialogue[\"segments\"]:\n",
    "    new_segment = segment.copy()\n",
    "    if segment[\"speaker\"] == \"Representative\":\n",
    "        new_segment[\"speaker\"] = \"Claribel Dervla\"  # Professional female voice for rep\n",
    "    elif segment[\"speaker\"] == \"Customer\": \n",
    "        new_segment[\"speaker\"] = \"Andrew Chipper\"   # Friendly male voice for customer\n",
    "    manual_dialogue[\"segments\"].append(new_segment)\n",
    "\n",
    "print(\"🎤 Generating call center dialogue with manual speaker assignment...\")\n",
    "print(\"👩‍💼 Representative: Claribel Dervla (female)\")\n",
    "print(\"👨‍💻 Customer: Andrew Chipper (male)\")\n",
    "\n",
    "dialogue_audio_manual = tts_dialogue.create_dialogue(\n",
    "    manual_dialogue, \n",
    "    language=\"en\"\n",
    ")\n",
    "\n",
    "print(f\"✅ Dialogue generated! Duration: {len(dialogue_audio_manual)/tts_dialogue.sample_rate:.1f} seconds\")\n",
    "\n",
    "# Play the dialogue\n",
    "ipd.Audio(dialogue_audio_manual, rate=tts_dialogue.sample_rate)\n"
   ]
  },
  {
   "cell_type": "markdown",
   "id": "2171bc48",
   "metadata": {
    "vscode": {
     "languageId": "raw"
    }
   },
   "source": [
    "### Version B: Random Speaker Assignment\n",
    "\n",
    "Now let's try the same dialogue with automatic random speaker assignment. This feature automatically assigns voices to characters, alternating between male and female voices.\n"
   ]
  },
  {
   "cell_type": "code",
   "execution_count": null,
   "id": "659a59f0",
   "metadata": {},
   "outputs": [],
   "source": [
    "# Generate the same dialogue with random speaker assignment\n",
    "print(\"🎲 Generating call center dialogue with random speaker assignment...\")\n",
    "print(\"🔄 The system will automatically assign voices, alternating gender between speakers\")\n",
    "\n",
    "dialogue_audio_random = tts_dialogue.create_dialogue(\n",
    "    call_center_dialogue,  # Using original dialogue with character names\n",
    "    language=\"en\",\n",
    "    random_speaker=True    # Enable automatic voice assignment\n",
    ")\n",
    "\n",
    "print(f\"✅ Random dialogue generated! Duration: {len(dialogue_audio_random)/tts_dialogue.sample_rate:.1f} seconds\")\n",
    "print(\"🎭 Each character was automatically assigned a voice from the available pool\")\n",
    "\n",
    "# Play the random-assigned dialogue\n",
    "ipd.Audio(dialogue_audio_random, rate=tts_dialogue.sample_rate)\n"
   ]
  },
  {
   "cell_type": "markdown",
   "id": "77802515",
   "metadata": {
    "vscode": {
     "languageId": "raw"
    }
   },
   "source": [
    "## Example 3: Snowflake Integration\n",
    "\n",
    "The TextToSpeech class can directly save generated audio files to Snowflake stages. This is useful for building data pipelines that include synthetic audio generation.\n",
    "\n",
    "**Note**: The following example requires an active Snowflake session. If you don't have one connected, you can still run the audio generation part.\n"
   ]
  },
  {
   "cell_type": "code",
   "execution_count": null,
   "id": "8ad0dbaa",
   "metadata": {},
   "outputs": [],
   "source": [
    "# Example of saving to Snowflake stage (requires active session)\n",
    "try:\n",
    "    # Check if we have an active Snowflake session\n",
    "    session = tts_dialogue.check_session()\n",
    "    print(\"✅ Active Snowflake session found!\")\n",
    "    \n",
    "    # Generate audio and save directly to stage\n",
    "    announcement_text = \"This audio file was generated automatically and saved to Snowflake stage.\"\n",
    "    \n",
    "    print(\"🎤 Generating audio and saving to Snowflake stage...\")\n",
    "    audio_with_stage = tts_dialogue.text_to_speech(\n",
    "        text=announcement_text,\n",
    "        speaker=\"Sofia Hellen\",\n",
    "        language=\"en\",\n",
    "        stage_location=\"@my_audio_stage/generated_announcement.wav\"  # Adjust stage name as needed\n",
    "    )\n",
    "    \n",
    "    print(\"✅ Audio generated and saved to Snowflake stage!\")\n",
    "    print(\"📁 File location: @my_audio_stage/generated_announcement.wav\")\n",
    "    \n",
    "    # Still play it in the notebook\n",
    "    ipd.Audio(audio_with_stage, rate=tts_dialogue.sample_rate)\n",
    "    \n",
    "except RuntimeError as e:\n",
    "    print(\"⚠️  No active Snowflake session found.\")\n",
    "    print(\"📝 To use Snowflake integration:\")\n",
    "    print(\"   1. Connect to Snowflake using snowpark\")\n",
    "    print(\"   2. Create a stage for audio files\")\n",
    "    print(\"   3. Run the text_to_speech method with stage_location parameter\")\n",
    "    print()\n",
    "    print(\"🎤 Generating audio without stage saving...\")\n",
    "    \n",
    "    # Generate without saving to stage\n",
    "    audio_local = tts_dialogue.text_to_speech(\n",
    "        text=\"This audio was generated locally without saving to Snowflake.\",\n",
    "        speaker=\"Sofia Hellen\",\n",
    "        language=\"en\"\n",
    "    )\n",
    "    \n",
    "    print(\"✅ Local audio generated!\")\n",
    "    \n",
    "    # Play the locally generated audio\n",
    "    ipd.Audio(audio_local, rate=tts_dialogue.sample_rate)\n"
   ]
  },
  {
   "cell_type": "markdown",
   "id": "2fedcd24",
   "metadata": {
    "vscode": {
     "languageId": "raw"
    }
   },
   "source": [
    "## Example 4: Saving Audio Files Locally\n",
    "\n",
    "You can also save the generated audio files locally for further processing or analysis.\n"
   ]
  },
  {
   "cell_type": "code",
   "execution_count": null,
   "id": "102ea43f",
   "metadata": {},
   "outputs": [],
   "source": [
    "# Save generated audio files locally\n",
    "output_dir = \"generated_audio\"\n",
    "os.makedirs(output_dir, exist_ok=True)\n",
    "\n",
    "# Save the simple TTS example\n",
    "simple_path = os.path.join(output_dir, \"simple_announcement.wav\")\n",
    "sf.write(simple_path, audio_data, tts_simple.sample_rate)\n",
    "print(f\"💾 Simple TTS saved to: {simple_path}\")\n",
    "\n",
    "# Save the manual dialogue\n",
    "manual_path = os.path.join(output_dir, \"call_center_manual.wav\")\n",
    "sf.write(manual_path, dialogue_audio_manual, tts_dialogue.sample_rate)\n",
    "print(f\"💾 Manual dialogue saved to: {manual_path}\")\n",
    "\n",
    "# Save the random dialogue  \n",
    "random_path = os.path.join(output_dir, \"call_center_random.wav\")\n",
    "sf.write(random_path, dialogue_audio_random, tts_dialogue.sample_rate)\n",
    "print(f\"💾 Random dialogue saved to: {random_path}\")\n",
    "\n",
    "print(f\"\\n📁 All audio files saved in '{output_dir}/' directory\")\n",
    "print(\"🎧 You can play these files with any audio player or use them in your applications\")\n"
   ]
  },
  {
   "cell_type": "markdown",
   "id": "84bfa85c",
   "metadata": {
    "vscode": {
     "languageId": "raw"
    }
   },
   "source": [
    "## Summary and Next Steps\n",
    "\n",
    "This notebook demonstrated the key capabilities of the TextToSpeech class:\n",
    "\n",
    "### ✅ What We Covered\n",
    "1. **Single-Speaker TTS** - Fast synthesis with `tts_models/en/ljspeech/tacotron2-DDC`\n",
    "2. **Multi-Speaker Dialogues** - Complex conversations using `tts_models/multilingual/multi-dataset/xtts_v2`\n",
    "3. **Call Center Simulation** - Realistic customer service interaction\n",
    "4. **Manual vs Random Speaker Assignment** - Different approaches to voice selection\n",
    "5. **Snowflake Integration** - Direct saving to Snowflake stages\n",
    "6. **Local File Operations** - Saving audio files for further use\n",
    "\n",
    "### 🚀 Potential Applications\n",
    "- **Customer Service Training**: Generate realistic call center scenarios\n",
    "- **Content Creation**: Automated narration and announcements  \n",
    "- **Data Augmentation**: Create diverse audio datasets for ML training\n",
    "- **Accessibility**: Convert text content to audio for visually impaired users\n",
    "- **Interactive Systems**: Voice interfaces and conversational AI\n",
    "\n",
    "### 🔧 Advanced Features to Explore\n",
    "- Different TTS models for various languages and voice qualities\n",
    "- Integration with other Snowflake ML features\n",
    "- Batch processing of large text datasets\n",
    "- Custom voice cloning and fine-tuning\n",
    "- Real-time streaming applications\n",
    "\n",
    "### 📚 Additional Resources\n",
    "- [Coqui TTS Documentation](https://tts.readthedocs.io/)\n",
    "- [Snowflake ML Documentation](https://docs.snowflake.com/en/developer-guide/snowpark-ml/index)\n",
    "- Check the `voices.py` file for all available voice options\n"
   ]
  }
 ],
 "metadata": {
  "language_info": {
   "name": "python"
  }
 },
 "nbformat": 4,
 "nbformat_minor": 5
}
